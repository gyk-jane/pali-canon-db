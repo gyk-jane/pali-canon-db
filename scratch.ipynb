{
 "cells": [
  {
   "cell_type": "code",
   "execution_count": 2,
   "metadata": {},
   "outputs": [],
   "source": [
    "import csv\n",
    "import json\n",
    "import sqlite3\n",
    "import pandas as pd\n",
    "import util\n",
    "import ast\n",
    "from util import connect_to_preprocess_db, connect_to_basket_db\n"
   ]
  },
  {
   "cell_type": "code",
   "execution_count": 14,
   "metadata": {},
   "outputs": [],
   "source": [
    "\n",
    "# Connect to the database\n",
    "conn = sqlite3.connect('tipitaka_db.db')\n",
    "cursor = conn.cursor()\n",
    "\n",
    "# Read the SQL script file\n",
    "with open('tipitaka_schema.sql', 'r') as file:\n",
    "    script = file.read()\n",
    "\n",
    "# Execute the SQL script\n",
    "cursor.executescript(script)\n",
    "\n",
    "# Commit the changes and close the connection\n",
    "conn.commit()\n",
    "conn.close()"
   ]
  },
  {
   "cell_type": "code",
   "execution_count": 11,
   "metadata": {},
   "outputs": [
    {
     "data": {
      "text/html": [
       "<div>\n",
       "<style scoped>\n",
       "    .dataframe tbody tr th:only-of-type {\n",
       "        vertical-align: middle;\n",
       "    }\n",
       "\n",
       "    .dataframe tbody tr th {\n",
       "        vertical-align: top;\n",
       "    }\n",
       "\n",
       "    .dataframe thead th {\n",
       "        text-align: right;\n",
       "    }\n",
       "</style>\n",
       "<table border=\"1\" class=\"dataframe\">\n",
       "  <thead>\n",
       "    <tr style=\"text-align: right;\">\n",
       "      <th></th>\n",
       "      <th>count(*)</th>\n",
       "    </tr>\n",
       "  </thead>\n",
       "  <tbody>\n",
       "    <tr>\n",
       "      <th>0</th>\n",
       "      <td>73422</td>\n",
       "    </tr>\n",
       "  </tbody>\n",
       "</table>\n",
       "</div>"
      ],
      "text/plain": [
       "   count(*)\n",
       "0     73422"
      ]
     },
     "execution_count": 11,
     "metadata": {},
     "output_type": "execute_result"
    }
   ],
   "source": [
    "conn = sqlite3.connect('/Users/janekim/Developer/tipitaka_db_dev/tipitaka_db.db')\n",
    "query = \"SELECT count(*) FROM translation\"\n",
    "df = pd.read_sql_query(query, conn)\n",
    "df"
   ]
  },
  {
   "cell_type": "code",
   "execution_count": null,
   "metadata": {},
   "outputs": [],
   "source": [
    "# Connect to preprocess.db to get translations data\n",
    "conn = connect_to_preprocess_db()\n",
    "predb_translations_df = pd.read_sql_query(f\"SELECT * FROM sutta_translations_json\", conn)\n",
    "\n",
    "# Ingest from predb_translations_df\n",
    "translations_df = predb_translations_df[['id', 'uid', 'lang', 'author_uid']]\n",
    "\n",
    "# Get actual text from Github/sc_data\n",
    "html_text_df = pd.read_sql_query(\"SELECT * FROM html_text\", conn)\n",
    "sc_bilara_texts_df = pd.read_sql_query(\"SELECT * FROM sc_bilara_texts\", conn)\n",
    "conn.close()\n",
    "\n",
    "# Merge html_text_df with translations_df\n",
    "merged_df = translations_df.merge(html_text_df[['_key', 'file_path']], left_on='id',\n",
    "                                    right_on='_key', how='left')\n",
    "# Merge sc_bilara_texts with merged_df\n",
    "merged_df = merged_df.merge(sc_bilara_texts_df[['_key', 'file_path']], left_on='id',\n",
    "                            right_on='_key', how='left',\n",
    "                            suffixes=('_html', '_sc_bilara'))\n",
    "\n",
    "# Drop _key_html and _key_sc_bilara since they are the same as `id`\n",
    "merged_df = merged_df.drop(columns=['_key_html', '_key_sc_bilara'])\n",
    "# Combine file_path_html and file_path_sc_bilara into file_path\n",
    "merged_df['file_path'] = merged_df['file_path_html'].combine_first(merged_df['file_path_sc_bilara'])\n",
    "merged_df = merged_df.drop(columns=['file_path_html', 'file_path_sc_bilara'])\n",
    "merged_df['file_path'] = merged_df['file_path'].str.replace('^/opt/sc/sc-flask/', '')\n",
    "\n",
    "# Note the suttas which don't have a corresponding text/translation\n",
    "missing_text = merged_df[merged_df['file_path'].isnull()]\n",
    "missing_text.to_csv(f'sutta_missing_text.csv', index=False)\n",
    "\n",
    "# Populate `text` column using `file_path`\n",
    "def get_file_contents(file_path: str):\n",
    "    if pd.isna(file_path):\n",
    "        return None\n",
    "    try:\n",
    "        with open(file_path, 'r', encoding='utf-8') as file:\n",
    "            if '.json' in file_path:\n",
    "                return json.load(file)\n",
    "            return file.read()\n",
    "    except FileNotFoundError:\n",
    "        print(f'File not found: {file_path}')\n",
    "        return None\n",
    "            \n",
    "merged_df['text'] = merged_df['file_path'].apply(get_file_contents)"
   ]
  }
 ],
 "metadata": {
  "kernelspec": {
   "display_name": "pali-env",
   "language": "python",
   "name": "python3"
  },
  "language_info": {
   "codemirror_mode": {
    "name": "ipython",
    "version": 3
   },
   "file_extension": ".py",
   "mimetype": "text/x-python",
   "name": "python",
   "nbconvert_exporter": "python",
   "pygments_lexer": "ipython3",
   "version": "3.12.3"
  }
 },
 "nbformat": 4,
 "nbformat_minor": 2
}
